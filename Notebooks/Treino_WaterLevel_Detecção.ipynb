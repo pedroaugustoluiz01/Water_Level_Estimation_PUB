{
  "cells": [
    {
      "cell_type": "code",
      "execution_count": null,
      "metadata": {
        "id": "XQJCUMDkjE2R"
      },
      "outputs": [],
      "source": [
        "!pip install matplotlib"
      ]
    },
    {
      "cell_type": "code",
      "execution_count": null,
      "metadata": {
        "id": "bmxefozOizur"
      },
      "outputs": [],
      "source": [
        "import torch\n",
        "from torchvision.datasets import CocoDetection\n",
        "from torchvision.transforms import Compose, ToTensor, Normalize, Resize\n",
        "from torchvision.models.detection import fasterrcnn_resnet50_fpn\n",
        "from torch.utils.data import Dataset\n",
        "\n",
        "import matplotlib.pyplot as plt\n",
        "import matplotlib.patches as patches\n",
        "import numpy as np"
      ]
    },
    {
      "cell_type": "code",
      "execution_count": null,
      "metadata": {
        "id": "fQToThog8OpA"
      },
      "outputs": [],
      "source": [
        "from torch.utils.data import Dataset, DataLoader, random_split"
      ]
    },
    {
      "cell_type": "code",
      "execution_count": null,
      "metadata": {
        "id": "wEeo4QjXr97g"
      },
      "outputs": [],
      "source": [
        "from torchvision.models.detection.faster_rcnn import FastRCNNPredictor"
      ]
    },
    {
      "cell_type": "code",
      "execution_count": null,
      "metadata": {
        "id": "lff4sQj_UYIl"
      },
      "outputs": [],
      "source": [
        "from torchvision.ops import box_iou"
      ]
    },
    {
      "cell_type": "code",
      "execution_count": null,
      "metadata": {
        "id": "Im2ey1ctjAij"
      },
      "outputs": [],
      "source": [
        "import os\n",
        "import torch\n",
        "import torch.utils.data\n",
        "import torchvision\n",
        "from PIL import Image\n",
        "from pycocotools.coco import COCO\n",
        "\n",
        "class myOwnDataset(torch.utils.data.Dataset):\n",
        "    def __init__(self, root, annotation, transforms=None):\n",
        "        self.root = root\n",
        "        self.transforms = transforms\n",
        "        self.coco = COCO(annotation)\n",
        "        self.ids = list(sorted(self.coco.imgs.keys()))\n",
        "\n",
        "    def __getitem__(self, index):\n",
        "\n",
        "        coco = self.coco\n",
        "\n",
        "        img_id = self.ids[index]\n",
        "\n",
        "        ann_ids = coco.getAnnIds(imgIds=img_id)\n",
        "\n",
        "        coco_annotation = coco.loadAnns(ann_ids)\n",
        "\n",
        "        path = coco.loadImgs(img_id)[0]['file_name']\n",
        "\n",
        "        img = Image.open(os.path.join(self.root, path))\n",
        "\n",
        "\n",
        "        num_objs = len(coco_annotation)\n",
        "\n",
        "\n",
        "        boxes = []\n",
        "        for i in range(num_objs):\n",
        "            xmin = coco_annotation[i]['bbox'][0]\n",
        "            ymin = coco_annotation[i]['bbox'][1]\n",
        "            xmax = xmin + coco_annotation[i]['bbox'][2]\n",
        "            ymax = ymin + coco_annotation[i]['bbox'][3]\n",
        "            boxes.append([xmin, ymin, xmax, ymax])\n",
        "        boxes = torch.as_tensor(boxes, dtype=torch.float32)\n",
        "\n",
        "        labels = torch.ones((num_objs,), dtype=torch.int64)\n",
        "\n",
        "        img_id = torch.tensor([img_id])\n",
        "\n",
        "        areas = []\n",
        "        for i in range(num_objs):\n",
        "            areas.append(coco_annotation[i]['area'])\n",
        "        areas = torch.as_tensor(areas, dtype=torch.float32)\n",
        "\n",
        "        iscrowd = torch.zeros((num_objs,), dtype=torch.int64)\n",
        "\n",
        "\n",
        "        my_annotation = {}\n",
        "        my_annotation[\"boxes\"] = boxes\n",
        "        my_annotation[\"labels\"] = labels\n",
        "        my_annotation[\"image_id\"] = img_id\n",
        "        my_annotation[\"area\"] = areas\n",
        "        my_annotation[\"iscrowd\"] = iscrowd\n",
        "\n",
        "        if self.transforms is not None:\n",
        "            img = self.transforms(img)\n",
        "\n",
        "        return img, my_annotation\n",
        "\n",
        "    def __len__(self):\n",
        "        return len(self.ids)"
      ]
    },
    {
      "cell_type": "code",
      "execution_count": null,
      "metadata": {
        "id": "lj8QBgKVqZlC"
      },
      "outputs": [],
      "source": [
        "def collate_fn(batch):\n",
        "    return tuple(zip(*batch))"
      ]
    },
    {
      "cell_type": "markdown",
      "source": [
        "CONJUNTO - DADOS RIO"
      ],
      "metadata": {
        "id": "F8cwHYe9_sD8"
      }
    },
    {
      "cell_type": "code",
      "execution_count": null,
      "metadata": {
        "colab": {
          "base_uri": "https://localhost:8080/"
        },
        "id": "9nBhJFMdohzR",
        "outputId": "4c4ba994-5efe-449d-f1df-0893784bea48"
      },
      "outputs": [
        {
          "output_type": "stream",
          "name": "stdout",
          "text": [
            "loading annotations into memory...\n",
            "Done (t=0.01s)\n",
            "creating index...\n",
            "index created!\n"
          ]
        }
      ],
      "source": [
        "root_folder = \"/content/drive/MyDrive/Water Level Identification/River/Images River\"\n",
        "json_annotation_file = \"/content/drive/MyDrive/Water Level Identification/River/detection/river-multi-detection.json\"\n",
        "\n",
        "\n",
        "transform = Compose([ToTensor()])\n",
        "\n",
        "custom_dataset = myOwnDataset(root=root_folder, annotation=json_annotation_file, transforms=transform)"
      ]
    },
    {
      "cell_type": "markdown",
      "source": [
        "CONJUNTO - DADOS PISCINA"
      ],
      "metadata": {
        "id": "miQVCnPs_uCI"
      }
    },
    {
      "cell_type": "code",
      "source": [
        "root_folder_pool = \"/content/drive/MyDrive/Water Level Identification/Pool/Images Pool\"\n",
        "json_annotation_file_pool = \"/content/drive/MyDrive/Water Level Identification/Pool/detection/pool_multi_detection.json\"\n",
        "\n",
        "\n",
        "transform = Compose([ToTensor()])\n",
        "\n",
        "custom_dataset_pool = myOwnDataset(root=root_folder_pool, annotation=json_annotation_file_pool, transforms=transform)\n",
        "\n",
        "loader_piscina = DataLoader(custom_dataset_pool, batch_size=8, shuffle=True, collate_fn = collate_fn)"
      ],
      "metadata": {
        "colab": {
          "base_uri": "https://localhost:8080/"
        },
        "id": "Mv-7agl5_oUV",
        "outputId": "f7a8fbc0-ce23-426b-bbdc-6b15f9bedf6d"
      },
      "execution_count": null,
      "outputs": [
        {
          "output_type": "stream",
          "name": "stdout",
          "text": [
            "loading annotations into memory...\n",
            "Done (t=0.01s)\n",
            "creating index...\n",
            "index created!\n"
          ]
        }
      ]
    },
    {
      "cell_type": "code",
      "execution_count": null,
      "metadata": {
        "id": "nsym_1Nv712N"
      },
      "outputs": [],
      "source": [
        "tamanho_treino = int(0.8 * len(custom_dataset))\n",
        "tamanho_teste = len(custom_dataset) - tamanho_treino\n",
        "\n",
        "\n",
        "conjunto_treino, conjunto_teste = random_split(custom_dataset, [tamanho_treino, tamanho_teste])\n",
        "\n",
        "\n",
        "loader_treino = DataLoader(conjunto_treino, batch_size=4, shuffle=True, collate_fn = collate_fn)\n",
        "loader_teste = DataLoader(conjunto_teste, batch_size=4, shuffle=False, collate_fn = collate_fn)"
      ]
    },
    {
      "cell_type": "code",
      "execution_count": null,
      "metadata": {
        "colab": {
          "base_uri": "https://localhost:8080/"
        },
        "id": "KhW8xfDK8T1b",
        "outputId": "e758149a-0968-4276-8ac9-6dc1b7a6026b"
      },
      "outputs": [
        {
          "output_type": "stream",
          "name": "stdout",
          "text": [
            "24\n",
            "6\n"
          ]
        }
      ],
      "source": [
        "print(len(loader_treino))\n",
        "print(len(loader_teste))"
      ]
    },
    {
      "cell_type": "code",
      "source": [
        "print(len(loader_piscina))"
      ],
      "metadata": {
        "colab": {
          "base_uri": "https://localhost:8080/"
        },
        "id": "nuGmAKwwGBhE",
        "outputId": "bc95aa19-ec16-43fc-c8e7-81cc952dff4c"
      },
      "execution_count": null,
      "outputs": [
        {
          "output_type": "stream",
          "name": "stdout",
          "text": [
            "27\n"
          ]
        }
      ]
    },
    {
      "cell_type": "code",
      "execution_count": null,
      "metadata": {
        "id": "saVKYi7eqh7c"
      },
      "outputs": [],
      "source": [
        "device = torch.device('cuda') if torch.cuda.is_available() else torch.device('cpu')\n",
        "\n",
        "\n",
        "for imgs, annotations in loader_teste:\n",
        "    imgs = list(img.to(device) for img in imgs)\n",
        "    annotations = [{k: v.to(device) for k, v in t.items()} for t in annotations]\n",
        "    print(annotations)"
      ]
    },
    {
      "cell_type": "code",
      "execution_count": null,
      "metadata": {
        "id": "1NGLbmear_SY"
      },
      "outputs": [],
      "source": [
        "num_classes = 2"
      ]
    },
    {
      "cell_type": "code",
      "execution_count": null,
      "metadata": {
        "colab": {
          "base_uri": "https://localhost:8080/"
        },
        "id": "-EKoj-mirz5H",
        "outputId": "252f503f-3767-4468-981a-e47267fb0b46"
      },
      "outputs": [
        {
          "output_type": "stream",
          "name": "stderr",
          "text": [
            "/usr/local/lib/python3.10/dist-packages/torchvision/models/_utils.py:208: UserWarning: The parameter 'pretrained' is deprecated since 0.13 and may be removed in the future, please use 'weights' instead.\n",
            "  warnings.warn(\n",
            "/usr/local/lib/python3.10/dist-packages/torchvision/models/_utils.py:223: UserWarning: Arguments other than a weight enum or `None` for 'weights' are deprecated since 0.13 and may be removed in the future. The current behavior is equivalent to passing `weights=FasterRCNN_ResNet50_FPN_Weights.COCO_V1`. You can also use `weights=FasterRCNN_ResNet50_FPN_Weights.DEFAULT` to get the most up-to-date weights.\n",
            "  warnings.warn(msg)\n"
          ]
        }
      ],
      "source": [
        "model = torchvision.models.detection.fasterrcnn_resnet50_fpn(pretrained=True)\n",
        "\n",
        "# for param in model.parameters():\n",
        "#     param.requires_grad = False\n",
        "\n",
        "\n",
        "in_features = model.roi_heads.box_predictor.cls_score.in_features\n",
        "\n",
        "model.roi_heads.box_predictor = FastRCNNPredictor(in_features, num_classes)"
      ]
    },
    {
      "cell_type": "code",
      "execution_count": null,
      "metadata": {
        "id": "oSUY6pi1lqFy"
      },
      "outputs": [],
      "source": [
        "device = torch.device('cuda' if torch.cuda.is_available() else 'cpu')\n",
        "model.to(device)\n",
        "\n",
        "\n",
        "optimizer = torch.optim.SGD(model.parameters(), lr=0.005, momentum=0.9)\n",
        "criterion = torch.nn.CrossEntropyLoss()\n",
        "\n",
        "\n",
        "num_epochs = 5\n",
        "len_dataloader = len(loader_treino)\n",
        "print(len_dataloader)\n",
        "\n",
        "all_losses = []\n",
        "\n",
        "for epoch in range(num_epochs):\n",
        "    total_iou = 0.0\n",
        "    total_boxes = 0\n",
        "    model.train()\n",
        "    i = 0\n",
        "    for imgs, annotations in loader_treino:\n",
        "        i += 1\n",
        "        imgs = list(img.to(device) for img in imgs)\n",
        "        annotations = [{k: v.to(device) for k, v in t.items()} for t in annotations]\n",
        "        loss_dict = model(imgs, annotations)\n",
        "        losses = sum(loss for loss in loss_dict.values())\n",
        "        all_losses.append(losses)\n",
        "\n",
        "        optimizer.zero_grad()\n",
        "        losses.backward()\n",
        "        optimizer.step()\n",
        "\n",
        "        print(f'Epoch: {epoch+1}, Iteration: {i}/{len_dataloader}, Loss: {losses}')"
      ]
    },
    {
      "cell_type": "code",
      "execution_count": null,
      "metadata": {
        "colab": {
          "base_uri": "https://localhost:8080/",
          "height": 472
        },
        "id": "eOFyIEPMy17h",
        "outputId": "b94b942d-6261-472b-a4f8-92e9d71828cd"
      },
      "outputs": [
        {
          "output_type": "display_data",
          "data": {
            "text/plain": [
              "<Figure size 640x480 with 1 Axes>"
            ],
            "image/png": "[encoded data removed]"
          },
          "metadata": {}
        }
      ],
      "source": [
        "for i,loss in enumerate(all_losses):\n",
        "  all_losses[i] = loss.cpu().detach().numpy()\n",
        "\n",
        "plt.plot(all_losses)\n",
        "plt.xlabel('Iterações')\n",
        "plt.ylabel('Loss')\n",
        "plt.title('Loss - Treino')\n",
        "plt.show()"
      ]
    },
    {
      "cell_type": "code",
      "execution_count": null,
      "metadata": {
        "colab": {
          "base_uri": "https://localhost:8080/"
        },
        "id": "ttwTKBf5yIEX",
        "outputId": "aa20fc20-2fc2-4aae-c3c4-b24d88d005a2"
      },
      "outputs": [
        {
          "output_type": "stream",
          "name": "stdout",
          "text": [
            "Média IoU (TREINADO E AVALIADO NO RIO): 0.7325320917456835\n",
            "Acurácia média (TREINADO E AVALIADO NO RIO): 0.39985436085175646\n"
          ]
        }
      ],
      "source": [
        "import matplotlib.pyplot as plt\n",
        "\n",
        "total_iou = 0.0\n",
        "total_boxes = 0\n",
        "accuracies = []\n",
        "\n",
        "for imgs, annotations in loader_treino:\n",
        "    imgs = list(img.to(device) for img in imgs)\n",
        "    annotations = [{k: v.to(device) for k, v in t.items()} for t in annotations]\n",
        "\n",
        "    with torch.no_grad():\n",
        "        model.eval()\n",
        "        pred_annotations = model(imgs, annotations)\n",
        "\n",
        "    for pred_boxes, true_boxes in zip(pred_annotations, annotations):\n",
        "        pred_boxes = pred_boxes['boxes'].cpu().detach().numpy()\n",
        "        true_boxes = true_boxes['boxes'].cpu().detach().numpy()\n",
        "\n",
        "        for pred_box in pred_boxes:\n",
        "            ious = box_iou(torch.from_numpy(pred_box.reshape(1, 4)), torch.from_numpy(true_boxes))\n",
        "            max_iou = ious.max().item()\n",
        "            total_iou += max_iou\n",
        "            total_boxes += 1\n",
        "\n",
        "\n",
        "        if len(pred_boxes) > 0:\n",
        "            accuracies.append(max_iou)\n",
        "\n",
        "average_iou = total_iou / total_boxes if total_boxes > 0 else 0.0\n",
        "print(f'Média IoU TREINO (TREINADO E AVALIADO NO RIO): {average_iou}')\n",
        "\n",
        "\n",
        "average_accuracy = sum(accuracies) / len(accuracies) if accuracies else 0.0\n",
        "print(f'Acurácia média TREINO (TREINADO E AVALIADO NO RIO): {average_accuracy}')\n",
        "\n"
      ]
    },
    {
      "cell_type": "code",
      "source": [
        "import matplotlib.pyplot as plt\n",
        "\n",
        "total_iou = 0.0\n",
        "total_boxes = 0\n",
        "accuracies = []\n",
        "\n",
        "for imgs, annotations in loader_teste:\n",
        "    imgs = list(img.to(device) for img in imgs)\n",
        "    annotations = [{k: v.to(device) for k, v in t.items()} for t in annotations]\n",
        "\n",
        "    with torch.no_grad():\n",
        "        model.eval()\n",
        "        pred_annotations = model(imgs, annotations)\n",
        "\n",
        "    for pred_boxes, true_boxes in zip(pred_annotations, annotations):\n",
        "        pred_boxes = pred_boxes['boxes'].cpu().detach().numpy()\n",
        "        true_boxes = true_boxes['boxes'].cpu().detach().numpy()\n",
        "\n",
        "        for pred_box in pred_boxes:\n",
        "            ious = box_iou(torch.from_numpy(pred_box.reshape(1, 4)), torch.from_numpy(true_boxes))\n",
        "            max_iou = ious.max().item()\n",
        "            total_iou += max_iou\n",
        "            total_boxes += 1\n",
        "\n",
        "\n",
        "        if len(pred_boxes) > 0:\n",
        "            accuracies.append(max_iou)\n",
        "\n",
        "average_iou = total_iou / total_boxes if total_boxes > 0 else 0.0\n",
        "print(f'Média IoU TESTE (TREINADO E AVALIADO NO RIO): {average_iou}')\n",
        "\n",
        "\n",
        "average_accuracy = sum(accuracies) / len(accuracies) if accuracies else 0.0\n",
        "print(f'Acurácia média TESTE (TREINADO E AVALIADO NO RIO): {average_accuracy}')"
      ],
      "metadata": {
        "colab": {
          "base_uri": "https://localhost:8080/"
        },
        "id": "mAFuVv19Ikj-",
        "outputId": "49f79a57-f0cc-4476-c371-bb5c50a77223"
      },
      "execution_count": null,
      "outputs": [
        {
          "output_type": "stream",
          "name": "stdout",
          "text": [
            "Média IoU TESTE (TREINADO E AVALIADO NO RIO): 0.7226006422724043\n",
            "Acurácia média TESTE (TREINADO E AVALIADO NO RIO): 0.33698878685633343\n"
          ]
        }
      ]
    },
    {
      "cell_type": "code",
      "execution_count": null,
      "metadata": {
        "colab": {
          "base_uri": "https://localhost:8080/"
        },
        "id": "M469DTkVx_PB",
        "outputId": "9ad83c6a-686d-4072-affc-3aec3adb2412"
      },
      "outputs": [
        {
          "output_type": "stream",
          "name": "stdout",
          "text": [
            "Média IoU (TREINADO NO RIO E AVALIADO NA PISCINA): 0.006512164121059785\n",
            "Acurácia média (TREINADO NO RIO E AVALIADO NA PISCINA): 0.006880730886030667\n"
          ]
        }
      ],
      "source": [
        "import matplotlib.pyplot as plt\n",
        "\n",
        "total_iou = 0.0\n",
        "total_boxes = 0\n",
        "accuracies = []\n",
        "\n",
        "for imgs, annotations in loader_piscina:\n",
        "    imgs = list(img.to(device) for img in imgs)\n",
        "    annotations = [{k: v.to(device) for k, v in t.items()} for t in annotations]\n",
        "\n",
        "    with torch.no_grad():\n",
        "        model.eval()\n",
        "        pred_annotations = model(imgs, annotations)\n",
        "\n",
        "    for pred_boxes, true_boxes in zip(pred_annotations, annotations):\n",
        "        pred_boxes = pred_boxes['boxes'].cpu().detach().numpy()\n",
        "        true_boxes = true_boxes['boxes'].cpu().detach().numpy()\n",
        "\n",
        "        for pred_box in pred_boxes:\n",
        "            ious = box_iou(torch.from_numpy(pred_box.reshape(1, 4)), torch.from_numpy(true_boxes))\n",
        "            max_iou = ious.max().item()\n",
        "            total_iou += max_iou\n",
        "            total_boxes += 1\n",
        "\n",
        "\n",
        "        if len(pred_boxes) > 0:\n",
        "            accuracies.append(max_iou)\n",
        "\n",
        "average_iou = total_iou / total_boxes if total_boxes > 0 else 0.0\n",
        "print(f'Média IoU (TREINADO NO RIO E AVALIADO NA PISCINA): {average_iou}')\n",
        "\n",
        "\n",
        "average_accuracy = sum(accuracies) / len(accuracies) if accuracies else 0.0\n",
        "print(f'Acurácia média (TREINADO NO RIO E AVALIADO NA PISCINA): {average_accuracy}')"
      ]
    }
  ],
  "metadata": {
    "accelerator": "GPU",
    "colab": {
      "provenance": []
    },
    "kernelspec": {
      "display_name": "Python 3",
      "name": "python3"
    },
    "language_info": {
      "name": "python"
    }
  },
  "nbformat": 4,
  "nbformat_minor": 0
}